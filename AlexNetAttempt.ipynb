{
 "cells": [
  {
   "cell_type": "markdown",
   "metadata": {},
   "source": [
    "# AlexNet Attempt\n",
    "We have chosen to explore the following dataset: https://www.kaggle.com/code/somaia03/eye-diseases-classification \n",
    "This dataset contains a series of images of different eyeballs that belong to those with various eye diseases. Each eyeball image in the dataset belongs to a specific class; Cataract, Diabetic Retinopathy, Glaucoma, Normal. \n",
    "\n",
    "Through training an AI model, we attempt to make accurate predictions about what class an image (or set of images), unseen during training, belongs to. In other words, given an image of an eyeball, we predict if the individual has an eye disease that belongs to the mentioned classes above. \n",
    "\n",
    "We considered and trialed various different solutions before settling on using an AlexNet model, customised as explained in the AlexNet Training section. These techniques include:\n",
    "- Models: \n",
    "    - AlexNet\n",
    "    - ResNet\n",
    "    - Simple, Custom CNN Architecture (Baseline)\n",
    "- Techniques: \n",
    "    - Preprocessing\n",
    "        - Final preprocessing technique as seen in the PreProcessing section\n",
    "        - Initally started with converting to greyscale to simplify module computation but discovered that this lead to worse accuracy performance. \n",
    "        - Normalization was a critical component to include for model performance  \n",
    "    - Experimented with various hyperparamters\n",
    "        - Differing learning rates\n",
    "        - Different batch sizes\n",
    "        - Different epoch counts\n",
    "        - Number of images used\n",
    "            - Some values thoroughly explored were 200, 400 before settling on 2000 \n",
    "        - Class weighting\n",
    "            - Disregarded as it revealed minimum improvement; Dataset already releatively balanced\n",
    "    - Optimiser Variations\n",
    "        - SGD\n",
    "        - Adam\n",
    "            - Decided on ADAM as it converged faster (despite a slight, but essentially negligable, difference in final accuracy)\n",
    "    - Learning Rate\n",
    "        - Used a Learning Rate Scheduler and settled on a decay every 20 epochs by a factor of 0.5\n",
    "        - Implemented Early Stopping techniques which tended to stop the training too early so instead, a visual output of current learning rate and average loss was used at manual discrescion. \n",
    "\n",
    "We evaluate the effectiveness of our model in the Evaluation Report below. "
   ]
  },
  {
   "cell_type": "markdown",
   "metadata": {},
   "source": [
    "## Data Loading"
   ]
  },
  {
   "cell_type": "code",
   "execution_count": 1,
   "metadata": {},
   "outputs": [],
   "source": [
    "# Importing the libraries\n",
    "import os\n",
    "import torch\n",
    "from helper import *"
   ]
  },
  {
   "cell_type": "code",
   "execution_count": 2,
   "metadata": {},
   "outputs": [
    {
     "name": "stdout",
     "output_type": "stream",
     "text": [
      "['cataract', 'diabetic_retinopathy', 'glaucoma', 'normal']\n"
     ]
    }
   ],
   "source": [
    "data_dir = \"dataset\"   # The name of the folder containing the dataset within the current working directory\n",
    "\n",
    "# remove ds_store file that mac creates\n",
    "if os.path.exists(data_dir + \"/.DS_Store\"):\n",
    "    os.remove(data_dir + \"/.DS_Store\")\n",
    "\n",
    "print(os.listdir(data_dir)) # List the first level of files (folders in this instance) in the dataset folder for verification"
   ]
  },
  {
   "cell_type": "code",
   "execution_count": 3,
   "metadata": {},
   "outputs": [
    {
     "name": "stdout",
     "output_type": "stream",
     "text": [
      "Directory path:  dataset\n",
      "Directory path:  dataset\\cataract\n",
      "Directory path:  dataset\\diabetic_retinopathy\n",
      "Directory path:  dataset\\glaucoma\n",
      "Directory path:  dataset\\normal\n"
     ]
    }
   ],
   "source": [
    "# Optional verification for all files in the dataset folder\n",
    "from os import walk\n",
    "for (dirpath, dirnames, filenames) in walk(data_dir):\n",
    "    print(\"Directory path: \", dirpath)\n",
    "    #print(\"File name: \", filenames)"
   ]
  },
  {
   "cell_type": "markdown",
   "metadata": {},
   "source": [
    "## Pre-Processing"
   ]
  },
  {
   "cell_type": "markdown",
   "metadata": {},
   "source": [
    "Defining preprocessing variables for the dataset\n",
    "\n",
    "- img_size converts all images to be of size 227x227 as the input size of AlexNet is specifically 227x227 pixels\n",
    "\n",
    "- Using a BATCH_SIZE = 32 as it strikes a balance between offering a moderately stable gradient estimate and not consuming excessive memory."
   ]
  },
  {
   "cell_type": "code",
   "execution_count": 4,
   "metadata": {},
   "outputs": [],
   "source": [
    "img_size = 227 \n",
    "BATCH_SIZE = 32 "
   ]
  },
  {
   "cell_type": "markdown",
   "metadata": {},
   "source": [
    "Begin preprocessing steps. \n",
    "We are applying a resize to 277x227 pixels, croping the image around the center, converting the image to a tensor and, normalising the image. These steps standardize the data, making it more uniform and better suited for training, which helps the model learn effectively and improves performance"
   ]
  },
  {
   "cell_type": "code",
   "execution_count": 5,
   "metadata": {},
   "outputs": [],
   "source": [
    "from torchvision import transforms # using the torchvision library for image transformations\n",
    "\n",
    "# Attempting to make images more uniform for improved training\n",
    "def transform(image_size: int):\n",
    "    transform = transforms.Compose([\n",
    "        transforms.Resize(image_size), # Resize the image to 227x227 pixels\n",
    "        transforms.CenterCrop(image_size), # Crop the image about the center\n",
    "        transforms.ToTensor(), # Convert the image to a tensor\n",
    "        transforms.Normalize(mean=[0.485, 0.456, 0.406], std=[0.229, 0.224, 0.225])  # Normalize the image.\n",
    "    ])\n",
    "    return transform\n"
   ]
  },
  {
   "cell_type": "code",
   "execution_count": 6,
   "metadata": {},
   "outputs": [
    {
     "data": {
      "text/plain": [
       "{'cataract': 0, 'diabetic_retinopathy': 1, 'glaucoma': 2, 'normal': 3}"
      ]
     },
     "execution_count": 6,
     "metadata": {},
     "output_type": "execute_result"
    }
   ],
   "source": [
    "from torchvision import datasets # Importing the datasets module from torchvision\n",
    "dataset = datasets.ImageFolder(data_dir, transform=transform(img_size)) # Loading the dataset from the folder\n",
    "dataset.class_to_idx # Displaying the classes and their respective indices"
   ]
  },
  {
   "cell_type": "markdown",
   "metadata": {},
   "source": [
    "Here we split into training and testing datasets (80% training, 20% testing) and create the data loaders for the training and testing datasets \n",
    "\n",
    "Shuffle is used to randomize the data to prevent the model from learning the order \n",
    "Batch size is used to specify the number of samples to be used in each iteration."
   ]
  },
  {
   "cell_type": "code",
   "execution_count": 7,
   "metadata": {},
   "outputs": [],
   "source": [
    "\n",
    "train_dataset, test_dataset = torch.utils.data.random_split(dataset, [0.8, 0.2]) \n",
    "\n",
    "train_loader = torch.utils.data.DataLoader(train_dataset, batch_size=BATCH_SIZE, shuffle=True) \n",
    "test_loader = torch.utils.data.DataLoader(test_dataset, batch_size=BATCH_SIZE, shuffle=True)  "
   ]
  },
  {
   "cell_type": "code",
   "execution_count": 8,
   "metadata": {},
   "outputs": [
    {
     "data": {
      "text/plain": [
       "<Axes: >"
      ]
     },
     "execution_count": 8,
     "metadata": {},
     "output_type": "execute_result"
    },
    {
     "data": {
      "image/png": "[encoded data removed]",
      "text/plain": [
       "<Figure size 640x480 with 1 Axes>"
      ]
     },
     "metadata": {},
     "output_type": "display_data"
    }
   ],
   "source": [
    "# Display example image from the train loader to verify the data\n",
    "images, labels = next(iter(train_loader))\n",
    "imshow(images[0])"
   ]
  },
  {
   "cell_type": "markdown",
   "metadata": {},
   "source": [
    "## Model Definition & Helper Functions"
   ]
  },
  {
   "cell_type": "code",
   "execution_count": 22,
   "metadata": {},
   "outputs": [],
   "source": [
    "import os\n",
    "import numpy as np\n",
    "import torch\n",
    "from torch import nn\n",
    "import math\n",
    "import torchvision\n",
    "from torchvision import transforms\n",
    "from torch.autograd import Variable\n",
    "from torch.utils.data import DataLoader\n",
    "import torch.optim as optim\n",
    "from torch.autograd import Variable\n",
    "import matplotlib.pyplot as plt\n",
    "from torch.utils import data\n",
    "from PIL import Image\n",
    "\n",
    "class AlexNet(torch.nn.Module):   \n",
    "    def  __init__(self, input_channels = 1, output_size = 10):\n",
    "        super().__init__()\n",
    "        self.conv1 = torch.nn.Sequential(   #input_size = 227*227*1\n",
    "            torch.nn.Conv2d(input_channels, 96, 11, 4, 0),\n",
    "            torch.nn.ReLU(),\n",
    "            torch.nn.MaxPool2d(kernel_size=3, stride=2) #output_size = 27*27*96\n",
    "        )\n",
    "        self.conv2 = torch.nn.Sequential(   #input_size = 27*27*96\n",
    "            torch.nn.Conv2d(96, 256, 5, 1, 2),\n",
    "            torch.nn.ReLU(),\n",
    "            torch.nn.MaxPool2d(3, 2)    #output_size = 13*13*256\n",
    "        )\n",
    "        self.conv3 = torch.nn.Sequential(   #input_size = 13*13*256\n",
    "            torch.nn.Conv2d(256, 384, 3, 1, 1), \n",
    "            torch.nn.ReLU(),    #output_size = 13*13*384\n",
    "        )\n",
    "        self.conv4 = torch.nn.Sequential(   #input_size = 13*13*384\n",
    "            torch.nn.Conv2d(384, 384, 3, 1, 1),\n",
    "            torch.nn.ReLU(),    #output_size = 13*13*384\n",
    "        )\n",
    "        self.conv5 = torch.nn.Sequential(   #input_size = 13*13*384\n",
    "            torch.nn.Conv2d(384, 256, 3, 1, 1),\n",
    "            torch.nn.ReLU(),\n",
    "            torch.nn.MaxPool2d(3, 2)    #output_size = 6*6*256\n",
    "        )\n",
    " \n",
    "        self.dense = torch.nn.Sequential(\n",
    "            torch.nn.Linear(9216, 4096),\n",
    "            torch.nn.ReLU(),\n",
    "            torch.nn.Dropout(0.5),\n",
    "            torch.nn.Linear(4096, 4096),\n",
    "            torch.nn.ReLU(),\n",
    "            torch.nn.Dropout(0.5),\n",
    "            torch.nn.Linear(4096, output_size)\n",
    "        )\n",
    " \n",
    "    def forward(self, x): \n",
    "        x = self.conv1(x)\n",
    "        x = self.conv2(x)\n",
    "        x = self.conv3(x)\n",
    "        x = self.conv4(x)\n",
    "        conv5_out = self.conv5(x)\n",
    "        x = conv5_out.view(conv5_out.size(0), -1)\n",
    "        out = self.dense(x)\n",
    "        return out\n",
    "\n",
    "def resize_image(input_size = 28):\n",
    "    transform = transforms.Compose([\n",
    "    transforms.Resize(input_size), \n",
    "    transforms.ToTensor()\n",
    "    ])\n",
    "    return transform\n",
    "\n",
    "def view_datasets(image_loader, objective_list):\n",
    "    objective_list = np.array(objective_list)\n",
    "    images, labels = next(iter(image_loader))\n",
    "    img = torchvision.utils.make_grid(images)\n",
    "    img = img.numpy().transpose(1, 2, 0)\n",
    "    print(objective_list[labels.tolist()])\n",
    "    # plt.axis('off')\n",
    "    # plt.imshow(img)\n",
    "    return (images, objective_list[labels.tolist()])\n",
    "\n",
    "def create_network(network):\n",
    "    device = torch.device('cuda' if torch.cuda.is_available() else 'cpu')\n",
    "    res = network\n",
    "    net = res.to(device)\n",
    "    return net\n",
    "\n",
    "def train_model(net, train_loader, LR, epochs=1, number_of_images=None):\n",
    "    loss_function = nn.CrossEntropyLoss()\n",
    "    optimizer = optim.Adam(net.parameters(), lr=LR)\n",
    "    \n",
    "    # Learning rate scheduler: Decay every 20 epochs by a factor of 0.5\n",
    "    scheduler = torch.optim.lr_scheduler.StepLR(optimizer, step_size=20, gamma=0.5)\n",
    "    \n",
    "    device = torch.device('cuda' if torch.cuda.is_available() else 'cpu')\n",
    "    net = net.to(device)\n",
    "\n",
    "    for epoch in range(epochs):\n",
    "        net.train()  # Set model to training mode\n",
    "        sum_loss = 0.0\n",
    "        total_images = 0\n",
    "\n",
    "        for i, (inputs, labels) in enumerate(train_loader):\n",
    "            if number_of_images is not None and total_images >= number_of_images:\n",
    "                break  # Stop after processing the desired number of images\n",
    "\n",
    "            inputs, labels = inputs.to(device), labels.to(device)\n",
    "            optimizer.zero_grad()  # Reset gradients\n",
    "            outputs = net(inputs)  # Forward pass\n",
    "            loss = loss_function(outputs, labels)  # Calculate loss\n",
    "            loss.backward()  # Backpropagation\n",
    "            optimizer.step()  # Update model parameters\n",
    "\n",
    "            sum_loss += loss.item() * inputs.size(0)\n",
    "            total_images += inputs.size(0)\n",
    "\n",
    "            if i % 100 == 99:\n",
    "                print('[Epoch %d, Batch %d] Loss: %.03f' %\n",
    "                      (epoch + 1, i + 1, sum_loss / total_images))\n",
    "                sum_loss = 0.0\n",
    "        \n",
    "        # Step the learning rate scheduler at the end of each epoch\n",
    "        scheduler.step()\n",
    "        \n",
    "        # Log the current learning rate and average loss for the epoch\n",
    "        current_lr = scheduler.get_last_lr()[0]\n",
    "        avg_loss = sum_loss / total_images\n",
    "        print(f\"Epoch {epoch+1}/{epochs}, Avg Loss: {avg_loss:.4f}, LR: {current_lr:.6f}\")\n",
    "\n",
    "    return net\n",
    "\n",
    "\n",
    "from sklearn.metrics import accuracy_score, precision_score, recall_score, f1_score, confusion_matrix\n",
    "def test_model(net, test_loader, number_of_images=None, class_label=None):\n",
    "    net.eval()\n",
    "    device = torch.device('cuda' if torch.cuda.is_available() else 'cpu')\n",
    "    net = net.to(device)\n",
    "\n",
    "    all_labels = []\n",
    "    all_predictions = []\n",
    "    \n",
    "    total_images_tested = 0\n",
    "\n",
    "    for i, (images, labels) in enumerate(test_loader):\n",
    "        images, labels = images.to(device), labels.to(device)\n",
    "\n",
    "        if class_label is not None:\n",
    "            mask = (labels == class_label)\n",
    "            images = images[mask]\n",
    "            labels = labels[mask]\n",
    "            if len(labels) == 0:\n",
    "                continue\n",
    "        \n",
    "        if number_of_images is not None and total_images_tested >= number_of_images:\n",
    "            break\n",
    "\n",
    "        output_test = net(images)\n",
    "        _, predicted = torch.max(output_test, 1)\n",
    "\n",
    "        all_labels.extend(labels.cpu().numpy())\n",
    "        all_predictions.extend(predicted.cpu().numpy())\n",
    "\n",
    "        total_images_tested += labels.size(0)\n",
    "    \n",
    "    if total_images_tested == 0:\n",
    "        print(f\"No data found for class {class_label}\")\n",
    "        return {\n",
    "            \"Accuracy\": \"N/A\",\n",
    "            \"Precision\": \"N/A\",\n",
    "            \"Recall\": \"N/A\",\n",
    "            \"F1-Score\": \"N/A\",\n",
    "            \"FP\": \"N/A\",\n",
    "            \"FN\": \"N/A\",\n",
    "            \"TP\": \"N/A\",\n",
    "            \"TN\": \"N/A\",\n",
    "            \"Total_Images\": 0\n",
    "        }\n",
    "\n",
    "    # Define all possible class labels\n",
    "    num_classes = len(set([0, 1, 2, 3])) \n",
    "    cm = confusion_matrix(all_labels, all_predictions, labels=range(num_classes))\n",
    "    print(\"Confusion Matrix:\\n\", cm)\n",
    "\n",
    "    if class_label is not None:\n",
    "        # Single-class evaluation\n",
    "        tp = cm[class_label, class_label]\n",
    "        fp = cm[:, class_label].sum() - tp\n",
    "        fn = cm[class_label, :].sum() - tp\n",
    "        tn = cm.sum() - (tp + fp + fn)\n",
    "    else:\n",
    "        # Multi-class evaluation\n",
    "        tp = cm.diagonal()\n",
    "        fp = cm.sum(axis=0) - tp\n",
    "        fn = cm.sum(axis=1) - tp\n",
    "        tn = cm.sum() - (fp + fn + tp)\n",
    "        tp = tp.sum()\n",
    "        fp = fp.sum()\n",
    "        fn = fn.sum()\n",
    "        tn = tn.sum()\n",
    "\n",
    "    num_samples = len(all_labels)\n",
    "    num_predictions = sum([1 for pred in all_predictions if pred == class_label]) if class_label is not None else \"All\"\n",
    "\n",
    "    return {\n",
    "        \"Accuracy\": accuracy_score(all_labels, all_predictions),\n",
    "        \"Precision\": precision_score(all_labels, all_predictions, average='weighted', zero_division=0),\n",
    "        \"Recall\": recall_score(all_labels, all_predictions, average='weighted', zero_division=0),\n",
    "        \"F1-Score\": f1_score(all_labels, all_predictions, average='weighted', zero_division=0),\n",
    "        \"FP\": fp,\n",
    "        \"FN\": fn,\n",
    "        \"TP\": tp,\n",
    "        \"TN\": tn,\n",
    "        \"Total_Images\": num_samples\n",
    "    }\n",
    "\n",
    "\n",
    "def predict_image(net, input_image, objective_list, num_of_prediction=1, true_label=None, dataset=None, image_index=None):\n",
    "    net.eval()\n",
    "\n",
    "    # Create reverse mapping for class indices to class labels\n",
    "    idx_to_class = {v: k for k, v in objective_list.items()}\n",
    "\n",
    "    # Ensure input_image has the correct shape\n",
    "    if len(input_image.shape) == 3:  # If (C, H, W), add batch dimension\n",
    "        input_image = input_image.unsqueeze(0)\n",
    "\n",
    "    # Move input and model to appropriate device\n",
    "    device = torch.device('cuda' if torch.cuda.is_available() else 'cpu')\n",
    "    net = net.to(device)\n",
    "    images = input_image.to(device)\n",
    "\n",
    "    # Get model predictions\n",
    "    output_test = net(images)\n",
    "    _, predicted = torch.topk(output_test, num_of_prediction)  # Get top predictions\n",
    "\n",
    "    # Map predicted indices to class labels\n",
    "    predicted_classes = [idx_to_class[idx.item()] for idx in predicted[0]]\n",
    "\n",
    "    # Calculate confidence scores for the predictions\n",
    "    confidence_scores = torch.softmax(output_test, dim=1)[0][predicted[0]].cpu().detach().numpy()\n",
    "\n",
    "    # Retrieve true label\n",
    "    if true_label is None and dataset is not None and image_index is not None:\n",
    "        true_label_index = dataset.dataset.targets[dataset.indices[image_index]]\n",
    "        true_label = idx_to_class[true_label_index]\n",
    "\n",
    "    print(f\"Predicted result(s): {predicted_classes}\")\n",
    "    print(f\"Confidence: {[f'{conf*100:.2f}%' for conf in confidence_scores]}\")\n",
    "    if true_label:\n",
    "        print(f\"True Label: {true_label}\")\n",
    "\n",
    "    return {\n",
    "        \"Predicted Classes\": predicted_classes,\n",
    "        \"Confidence\": confidence_scores,\n",
    "        \"True Label\": true_label\n",
    "    }"
   ]
  },
  {
   "cell_type": "markdown",
   "metadata": {},
   "source": [
    "## AlexNet Training"
   ]
  },
  {
   "cell_type": "markdown",
   "metadata": {},
   "source": [
    "The problem we are trying to solve is an image classification problem. Specifically, we are classifying images into distinct categories where each image belongs to one class. Images can belong to the classes ['cataract', 'diabetic_retinopathy', 'glaucoma', 'normal']\n",
    "\n",
    "The goal is to train a model that can accurately predict the correct class for new, unseen images.\n",
    "\n",
    "AlexNet was chosen as the model due to the number of images being used and presence of hardware limitations requiring a model that can trains efficiently over a smaller duration. Through analysis and comparission with other methods and models we discovered that AlexNet's accuracy for this task was effective while remaining speedy and thus decided on this approach for our final model. "
   ]
  },
  {
   "cell_type": "code",
   "execution_count": 9,
   "metadata": {},
   "outputs": [],
   "source": [
    "# Importing the necessary libraries for the model\n",
    "from heading import *\n",
    "import torch"
   ]
  },
  {
   "cell_type": "markdown",
   "metadata": {},
   "source": [
    "Defining the model parameters\n",
    "\n",
    "- We chose input_channels as 3 because the images are colored images and have 3 channels (RGB) \n",
    "- The output_size is 4 because we have 4 classes in the dataset\n",
    "- Epoch is the number of times the model goes through the entire dataset and was an experimentally chosen value based on the model's performance\n",
    "- LR is the learning rate and was also an experimentally chosen value based on the model's performance\n",
    "- number_of_images is the number of images to use from the dataset and was chosen to be 2000 to reduce the training time while still maintaining a good model performance"
   ]
  },
  {
   "cell_type": "code",
   "execution_count": 10,
   "metadata": {},
   "outputs": [],
   "source": [
    "\n",
    "input_channels = 3\n",
    "output_size = 4\n",
    "\n",
    "EPOCH = 80\n",
    "LR = 0.001\n",
    "number_of_images = 2000"
   ]
  },
  {
   "cell_type": "markdown",
   "metadata": {},
   "source": [
    "Next, we create the model using the AlexNet architecture and the create_network function from the heading.py file"
   ]
  },
  {
   "cell_type": "code",
   "execution_count": 11,
   "metadata": {},
   "outputs": [],
   "source": [
    "\n",
    "Alex_net = AlexNet(input_channels, output_size)\n",
    "alex_net = create_network(Alex_net)"
   ]
  },
  {
   "cell_type": "code",
   "execution_count": 12,
   "metadata": {},
   "outputs": [
    {
     "name": "stdout",
     "output_type": "stream",
     "text": [
      "True\n",
      "2.5.1+cu121\n"
     ]
    }
   ],
   "source": [
    "# Manually verifiying if CUDA is available to be used for faster training\n",
    "\n",
    "print(torch.cuda.is_available())  # This will return False if CUDA isn't supported\n",
    "print(torch.__version__)  # Check the PyTorch version"
   ]
  },
  {
   "cell_type": "markdown",
   "metadata": {},
   "source": [
    "Finally we train are model using the train_model function provided in heading.py. We provide all parameters as mentioned above. \n",
    "- Note that this function includes a learning rate scheduler that proides decay every 20 epochs by a factor of 0.5 as this was discovered to help the model converge more effectively as we increased epoch count\n",
    "\n",
    "- NOTE: We have commented out the training phase to avoid training the model each time we run it. \n",
    "If you would like to train (or retrain) the model, simply alternate the commented out lines below. "
   ]
  },
  {
   "cell_type": "code",
   "execution_count": 13,
   "metadata": {},
   "outputs": [
    {
     "name": "stderr",
     "output_type": "stream",
     "text": [
      "C:\\Users\\wells\\AppData\\Local\\Temp\\ipykernel_34212\\817775374.py:3: FutureWarning: You are using `torch.load` with `weights_only=False` (the current default value), which uses the default pickle module implicitly. It is possible to construct malicious pickle data which will execute arbitrary code during unpickling (See https://github.com/pytorch/pytorch/blob/main/SECURITY.md#untrusted-models for more details). In a future release, the default value for `weights_only` will be flipped to `True`. This limits the functions that could be executed during unpickling. Arbitrary objects will no longer be allowed to be loaded via this mode unless they are explicitly allowlisted by the user via `torch.serialization.add_safe_globals`. We recommend you start setting `weights_only=True` for any use case where you don't have full control of the loaded file. Please open an issue on GitHub for any issues related to this experimental feature.\n",
      "  trained_alexnet_model = torch.load('AlexNet_model_v1.pth')\n"
     ]
    }
   ],
   "source": [
    "# trained_alexnet_model = train_model(alex_net, train_loader, LR, EPOCH, number_of_images)\n",
    "\n",
    "trained_alexnet_model = torch.load('AlexNet_model_v1.pth')"
   ]
  },
  {
   "cell_type": "markdown",
   "metadata": {},
   "source": [
    "Next, we run the test function to evaluate the model on the test dataset. We provide the param of 300 images to be used for this testing process"
   ]
  },
  {
   "cell_type": "code",
   "execution_count": 14,
   "metadata": {},
   "outputs": [
    {
     "name": "stdout",
     "output_type": "stream",
     "text": [
      "Confusion Matrix:\n",
      " [[75  0  2  0]\n",
      " [ 0 95  0  0]\n",
      " [ 0  0 68  2]\n",
      " [ 1  0  2 75]]\n",
      "Confusion Matrix:\n",
      " [[82  0  0  0]\n",
      " [ 0 82  0  0]\n",
      " [ 1  0 68  3]\n",
      " [ 1  0  3 80]]\n",
      "Confusion Matrix:\n",
      " [[208   0   4   2]\n",
      " [  0   0   0   0]\n",
      " [  0   0   0   0]\n",
      " [  0   0   0   0]]\n",
      "Confusion Matrix:\n",
      " [[  0   0   0   0]\n",
      " [  0 221   0   0]\n",
      " [  0   0   0   0]\n",
      " [  0   0   0   0]]\n",
      "Confusion Matrix:\n",
      " [[  0   0   0   0]\n",
      " [  0   0   0   0]\n",
      " [  1   0 181   8]\n",
      " [  0   0   0   0]]\n",
      "Confusion Matrix:\n",
      " [[  0   0   0   0]\n",
      " [  0   0   0   0]\n",
      " [  0   0   0   0]\n",
      " [  1   0  10 207]]\n"
     ]
    },
    {
     "data": {
      "text/html": [
       "<div>\n",
       "<style scoped>\n",
       "    .dataframe tbody tr th:only-of-type {\n",
       "        vertical-align: middle;\n",
       "    }\n",
       "\n",
       "    .dataframe tbody tr th {\n",
       "        vertical-align: top;\n",
       "    }\n",
       "\n",
       "    .dataframe thead th {\n",
       "        text-align: right;\n",
       "    }\n",
       "</style>\n",
       "<table border=\"1\" class=\"dataframe\">\n",
       "  <thead>\n",
       "    <tr style=\"text-align: right;\">\n",
       "      <th></th>\n",
       "      <th>Dataset/Test</th>\n",
       "      <th>Accuracy</th>\n",
       "      <th>Precision</th>\n",
       "      <th>Recall</th>\n",
       "      <th>F1-Score</th>\n",
       "      <th>TP</th>\n",
       "      <th>FP</th>\n",
       "      <th>TN</th>\n",
       "      <th>FN</th>\n",
       "      <th>Total_Images</th>\n",
       "    </tr>\n",
       "  </thead>\n",
       "  <tbody>\n",
       "    <tr>\n",
       "      <th>0</th>\n",
       "      <td>Training Data</td>\n",
       "      <td>0.978125</td>\n",
       "      <td>0.978350</td>\n",
       "      <td>0.978125</td>\n",
       "      <td>0.978176</td>\n",
       "      <td>313</td>\n",
       "      <td>7</td>\n",
       "      <td>953</td>\n",
       "      <td>7</td>\n",
       "      <td>320</td>\n",
       "    </tr>\n",
       "    <tr>\n",
       "      <th>1</th>\n",
       "      <td>Testing Data</td>\n",
       "      <td>0.975000</td>\n",
       "      <td>0.974904</td>\n",
       "      <td>0.975000</td>\n",
       "      <td>0.974896</td>\n",
       "      <td>312</td>\n",
       "      <td>8</td>\n",
       "      <td>952</td>\n",
       "      <td>8</td>\n",
       "      <td>320</td>\n",
       "    </tr>\n",
       "    <tr>\n",
       "      <th>2</th>\n",
       "      <td>Testing Data - Cataract</td>\n",
       "      <td>0.971963</td>\n",
       "      <td>1.000000</td>\n",
       "      <td>0.971963</td>\n",
       "      <td>0.985782</td>\n",
       "      <td>208</td>\n",
       "      <td>0</td>\n",
       "      <td>0</td>\n",
       "      <td>6</td>\n",
       "      <td>214</td>\n",
       "    </tr>\n",
       "    <tr>\n",
       "      <th>3</th>\n",
       "      <td>Testing Data - Diabetic Retinopathy</td>\n",
       "      <td>1.000000</td>\n",
       "      <td>1.000000</td>\n",
       "      <td>1.000000</td>\n",
       "      <td>1.000000</td>\n",
       "      <td>221</td>\n",
       "      <td>0</td>\n",
       "      <td>0</td>\n",
       "      <td>0</td>\n",
       "      <td>221</td>\n",
       "    </tr>\n",
       "    <tr>\n",
       "      <th>4</th>\n",
       "      <td>Testing Data - Glaucoma</td>\n",
       "      <td>0.952632</td>\n",
       "      <td>1.000000</td>\n",
       "      <td>0.952632</td>\n",
       "      <td>0.975741</td>\n",
       "      <td>181</td>\n",
       "      <td>0</td>\n",
       "      <td>0</td>\n",
       "      <td>9</td>\n",
       "      <td>190</td>\n",
       "    </tr>\n",
       "    <tr>\n",
       "      <th>5</th>\n",
       "      <td>Testing Data - Normal</td>\n",
       "      <td>0.949541</td>\n",
       "      <td>1.000000</td>\n",
       "      <td>0.949541</td>\n",
       "      <td>0.974118</td>\n",
       "      <td>207</td>\n",
       "      <td>0</td>\n",
       "      <td>0</td>\n",
       "      <td>11</td>\n",
       "      <td>218</td>\n",
       "    </tr>\n",
       "  </tbody>\n",
       "</table>\n",
       "</div>"
      ],
      "text/plain": [
       "                          Dataset/Test  Accuracy  Precision    Recall  \\\n",
       "0                        Training Data  0.978125   0.978350  0.978125   \n",
       "1                         Testing Data  0.975000   0.974904  0.975000   \n",
       "2              Testing Data - Cataract  0.971963   1.000000  0.971963   \n",
       "3  Testing Data - Diabetic Retinopathy  1.000000   1.000000  1.000000   \n",
       "4              Testing Data - Glaucoma  0.952632   1.000000  0.952632   \n",
       "5                Testing Data - Normal  0.949541   1.000000  0.949541   \n",
       "\n",
       "   F1-Score   TP  FP   TN  FN  Total_Images  \n",
       "0  0.978176  313   7  953   7           320  \n",
       "1  0.974896  312   8  952   8           320  \n",
       "2  0.985782  208   0    0   6           214  \n",
       "3  1.000000  221   0    0   0           221  \n",
       "4  0.975741  181   0    0   9           190  \n",
       "5  0.974118  207   0    0  11           218  "
      ]
     },
     "metadata": {},
     "output_type": "display_data"
    }
   ],
   "source": [
    "import torch \n",
    "import pandas as pd\n",
    "\n",
    "\n",
    "results = []\n",
    "\n",
    "datasets = [\n",
    "    (\"Training Data\", None),\n",
    "    (\"Testing Data\", None),\n",
    "    (\"Testing Data - Cataract\", 0),\n",
    "    (\"Testing Data - Diabetic Retinopathy\", 1),\n",
    "    (\"Testing Data - Glaucoma\", 2),\n",
    "    (\"Testing Data - Normal\", 3)\n",
    "]\n",
    "\n",
    "for name, class_label in datasets:\n",
    "    metrics = test_model(trained_alexnet_model, test_loader, number_of_images=300, class_label=class_label)\n",
    "    results.append([\n",
    "        name, \n",
    "        metrics[\"Accuracy\"], \n",
    "        metrics[\"Precision\"], \n",
    "        metrics[\"Recall\"], \n",
    "        metrics[\"F1-Score\"],\n",
    "        metrics[\"TP\"],\n",
    "        metrics[\"FP\"],\n",
    "        metrics[\"TN\"],\n",
    "        metrics[\"FN\"],\n",
    "        metrics[\"Total_Images\"]\n",
    "    ])\n",
    "\n",
    "# Display Enhanced Table\n",
    "df = pd.DataFrame(results, columns=[\n",
    "    \"Dataset/Test\", \"Accuracy\", \"Precision\", \"Recall\", \"F1-Score\",\n",
    "    \"TP\", \"FP\", \"TN\", \"FN\", \"Total_Images\"\n",
    "])\n",
    "display(df)\n",
    "\n"
   ]
  },
  {
   "cell_type": "markdown",
   "metadata": {},
   "source": [
    "Next, we ask the model to make a prediction on a given image \n",
    "- It will predict the class of a given image. For this example we used the 42nd image in the test dataset\n",
    "- Prediciton function takes in the model, the image and the label list"
   ]
  },
  {
   "cell_type": "code",
   "execution_count": 15,
   "metadata": {},
   "outputs": [
    {
     "name": "stdout",
     "output_type": "stream",
     "text": [
      "Predicted result(s): ['cataract']\n",
      "Confidence: ['99.51%']\n",
      "True Label: cataract\n"
     ]
    },
    {
     "data": {
      "text/plain": [
       "{'Predicted Classes': ['cataract'],\n",
       " 'Confidence': array([0.99513876], dtype=float32),\n",
       " 'True Label': 'cataract'}"
      ]
     },
     "execution_count": 15,
     "metadata": {},
     "output_type": "execute_result"
    }
   ],
   "source": [
    "from PIL import Image\n",
    "from torchvision.transforms.functional import to_pil_image\n",
    "import matplotlib.pyplot as plt\n",
    "\n",
    "# Retrieve and display the 42nd image from the dataset\n",
    "image_index = 42  # Example index\n",
    "image, _ = test_dataset[image_index]\n",
    "select_image = image \n",
    "label_list = dataset.class_to_idx\n",
    "\n",
    "predict_image(trained_alexnet_model, select_image, label_list, dataset=test_loader.dataset, image_index=image_index)\n"
   ]
  },
  {
   "cell_type": "markdown",
   "metadata": {},
   "source": [
    "Next, we save the model such that it can be used at a later date without training it up again. It is saved to the current working director under the given name 'AlexNet_model_v1.pth'"
   ]
  },
  {
   "cell_type": "code",
   "execution_count": 16,
   "metadata": {},
   "outputs": [],
   "source": [
    "# torch.save(trained_alexnet_model, 'AlexNet_model_v1.pth')"
   ]
  },
  {
   "cell_type": "markdown",
   "metadata": {},
   "source": [
    "## AlexNet Retraining"
   ]
  },
  {
   "cell_type": "markdown",
   "metadata": {},
   "source": [
    "Optional retraining for further increasing model performance. "
   ]
  },
  {
   "cell_type": "markdown",
   "metadata": {},
   "source": [
    "Here we change the training params as required to suit our retraining purposes"
   ]
  },
  {
   "cell_type": "code",
   "execution_count": 17,
   "metadata": {},
   "outputs": [],
   "source": [
    "LR = 0.0005 # We reduce the learning rate to 0.0005\n",
    "EPOCH = 1 # We reduce the number of epochs to 20"
   ]
  },
  {
   "cell_type": "code",
   "execution_count": 18,
   "metadata": {},
   "outputs": [
    {
     "name": "stderr",
     "output_type": "stream",
     "text": [
      "C:\\Users\\wells\\AppData\\Local\\Temp\\ipykernel_34212\\2888817219.py:1: FutureWarning: You are using `torch.load` with `weights_only=False` (the current default value), which uses the default pickle module implicitly. It is possible to construct malicious pickle data which will execute arbitrary code during unpickling (See https://github.com/pytorch/pytorch/blob/main/SECURITY.md#untrusted-models for more details). In a future release, the default value for `weights_only` will be flipped to `True`. This limits the functions that could be executed during unpickling. Arbitrary objects will no longer be allowed to be loaded via this mode unless they are explicitly allowlisted by the user via `torch.serialization.add_safe_globals`. We recommend you start setting `weights_only=True` for any use case where you don't have full control of the loaded file. Please open an issue on GitHub for any issues related to this experimental feature.\n",
      "  pretrained_alexnet_model = torch.load('AlexNet_model.pth') # Load model from the saved file name\n"
     ]
    },
    {
     "name": "stdout",
     "output_type": "stream",
     "text": [
      "Epoch 1/1, Avg Loss: 1.3350, LR: 0.000500\n"
     ]
    }
   ],
   "source": [
    "pretrained_alexnet_model = torch.load('AlexNet_model.pth') # Load model from the saved file name\n",
    "pre_trained_alexnet_model = train_model(pretrained_alexnet_model, train_loader, LR, EPOCH, number_of_images) # Additional training on this model"
   ]
  },
  {
   "cell_type": "markdown",
   "metadata": {},
   "source": [
    "Now, we can do more testing on our retrained model"
   ]
  },
  {
   "cell_type": "code",
   "execution_count": null,
   "metadata": {},
   "outputs": [
    {
     "name": "stdout",
     "output_type": "stream",
     "text": [
      "Confusion Matrix:\n",
      " [[79  0  3  0]\n",
      " [ 0 84  0  0]\n",
      " [ 0  0 70  2]\n",
      " [ 1  0  1 80]]\n",
      "Confusion Matrix:\n",
      " [[70  0  2  1]\n",
      " [ 0 83  0  0]\n",
      " [ 1  0 81  7]\n",
      " [ 0  0  2 73]]\n",
      "Confusion Matrix:\n",
      " [[208   0   4   2]\n",
      " [  0   0   0   0]\n",
      " [  0   0   0   0]\n",
      " [  0   0   0   0]]\n",
      "Confusion Matrix:\n",
      " [[  0   0   0   0]\n",
      " [  0 221   0   0]\n",
      " [  0   0   0   0]\n",
      " [  0   0   0   0]]\n",
      "Confusion Matrix:\n",
      " [[  0   0   0   0]\n",
      " [  0   0   0   0]\n",
      " [  1   0 181   8]\n",
      " [  0   0   0   0]]\n",
      "Confusion Matrix:\n",
      " [[  0   0   0   0]\n",
      " [  0   0   0   0]\n",
      " [  0   0   0   0]\n",
      " [  1   0  10 207]]\n"
     ]
    },
    {
     "data": {
      "text/html": [
       "<div>\n",
       "<style scoped>\n",
       "    .dataframe tbody tr th:only-of-type {\n",
       "        vertical-align: middle;\n",
       "    }\n",
       "\n",
       "    .dataframe tbody tr th {\n",
       "        vertical-align: top;\n",
       "    }\n",
       "\n",
       "    .dataframe thead th {\n",
       "        text-align: right;\n",
       "    }\n",
       "</style>\n",
       "<table border=\"1\" class=\"dataframe\">\n",
       "  <thead>\n",
       "    <tr style=\"text-align: right;\">\n",
       "      <th></th>\n",
       "      <th>Dataset/Test</th>\n",
       "      <th>Accuracy</th>\n",
       "      <th>Precision</th>\n",
       "      <th>Recall</th>\n",
       "      <th>F1-Score</th>\n",
       "      <th>TP</th>\n",
       "      <th>FP</th>\n",
       "      <th>TN</th>\n",
       "      <th>FN</th>\n",
       "      <th>Total_Images</th>\n",
       "    </tr>\n",
       "  </thead>\n",
       "  <tbody>\n",
       "    <tr>\n",
       "      <th>0</th>\n",
       "      <td>Training Data</td>\n",
       "      <td>0.978125</td>\n",
       "      <td>0.978385</td>\n",
       "      <td>0.978125</td>\n",
       "      <td>0.978176</td>\n",
       "      <td>313</td>\n",
       "      <td>7</td>\n",
       "      <td>953</td>\n",
       "      <td>7</td>\n",
       "      <td>320</td>\n",
       "    </tr>\n",
       "    <tr>\n",
       "      <th>1</th>\n",
       "      <td>Testing Data</td>\n",
       "      <td>0.959375</td>\n",
       "      <td>0.960551</td>\n",
       "      <td>0.959375</td>\n",
       "      <td>0.959458</td>\n",
       "      <td>307</td>\n",
       "      <td>13</td>\n",
       "      <td>947</td>\n",
       "      <td>13</td>\n",
       "      <td>320</td>\n",
       "    </tr>\n",
       "    <tr>\n",
       "      <th>2</th>\n",
       "      <td>Testing Data - Cataract</td>\n",
       "      <td>0.971963</td>\n",
       "      <td>1.000000</td>\n",
       "      <td>0.971963</td>\n",
       "      <td>0.985782</td>\n",
       "      <td>208</td>\n",
       "      <td>0</td>\n",
       "      <td>0</td>\n",
       "      <td>6</td>\n",
       "      <td>214</td>\n",
       "    </tr>\n",
       "    <tr>\n",
       "      <th>3</th>\n",
       "      <td>Testing Data - Diabetic Retinopathy</td>\n",
       "      <td>1.000000</td>\n",
       "      <td>1.000000</td>\n",
       "      <td>1.000000</td>\n",
       "      <td>1.000000</td>\n",
       "      <td>221</td>\n",
       "      <td>0</td>\n",
       "      <td>0</td>\n",
       "      <td>0</td>\n",
       "      <td>221</td>\n",
       "    </tr>\n",
       "    <tr>\n",
       "      <th>4</th>\n",
       "      <td>Testing Data - Glaucoma</td>\n",
       "      <td>0.952632</td>\n",
       "      <td>1.000000</td>\n",
       "      <td>0.952632</td>\n",
       "      <td>0.975741</td>\n",
       "      <td>181</td>\n",
       "      <td>0</td>\n",
       "      <td>0</td>\n",
       "      <td>9</td>\n",
       "      <td>190</td>\n",
       "    </tr>\n",
       "    <tr>\n",
       "      <th>5</th>\n",
       "      <td>Testing Data - Normal</td>\n",
       "      <td>0.949541</td>\n",
       "      <td>1.000000</td>\n",
       "      <td>0.949541</td>\n",
       "      <td>0.974118</td>\n",
       "      <td>207</td>\n",
       "      <td>0</td>\n",
       "      <td>0</td>\n",
       "      <td>11</td>\n",
       "      <td>218</td>\n",
       "    </tr>\n",
       "  </tbody>\n",
       "</table>\n",
       "</div>"
      ],
      "text/plain": [
       "                          Dataset/Test  Accuracy  Precision    Recall  \\\n",
       "0                        Training Data  0.978125   0.978385  0.978125   \n",
       "1                         Testing Data  0.959375   0.960551  0.959375   \n",
       "2              Testing Data - Cataract  0.971963   1.000000  0.971963   \n",
       "3  Testing Data - Diabetic Retinopathy  1.000000   1.000000  1.000000   \n",
       "4              Testing Data - Glaucoma  0.952632   1.000000  0.952632   \n",
       "5                Testing Data - Normal  0.949541   1.000000  0.949541   \n",
       "\n",
       "   F1-Score   TP  FP   TN  FN  Total_Images  \n",
       "0  0.978176  313   7  953   7           320  \n",
       "1  0.959458  307  13  947  13           320  \n",
       "2  0.985782  208   0    0   6           214  \n",
       "3  1.000000  221   0    0   0           221  \n",
       "4  0.975741  181   0    0   9           190  \n",
       "5  0.974118  207   0    0  11           218  "
      ]
     },
     "metadata": {},
     "output_type": "display_data"
    }
   ],
   "source": [
    "import torch \n",
    "import pandas as pd\n",
    "\n",
    "\n",
    "results = []\n",
    "\n",
    "datasets = [\n",
    "    (\"Training Data\", None),\n",
    "    (\"Testing Data\", None),\n",
    "    (\"Testing Data - Cataract\", 0),\n",
    "    (\"Testing Data - Diabetic Retinopathy\", 1),\n",
    "    (\"Testing Data - Glaucoma\", 2),\n",
    "    (\"Testing Data - Normal\", 3)\n",
    "]\n",
    "\n",
    "for name, class_label in datasets:\n",
    "    metrics = test_model(trained_alexnet_model, test_loader, number_of_images=300, class_label=class_label)\n",
    "    results.append([\n",
    "        name, \n",
    "        metrics[\"Accuracy\"], \n",
    "        metrics[\"Precision\"], \n",
    "        metrics[\"Recall\"], \n",
    "        metrics[\"F1-Score\"],\n",
    "        metrics[\"TP\"],\n",
    "        metrics[\"FP\"],\n",
    "        metrics[\"TN\"],\n",
    "        metrics[\"FN\"],\n",
    "        metrics[\"Total_Images\"]\n",
    "    ])\n",
    "\n",
    "# Display Enhanced Table\n",
    "df = pd.DataFrame(results, columns=[\n",
    "    \"Dataset/Test\", \"Accuracy\", \"Precision\", \"Recall\", \"F1-Score\",\n",
    "    \"TP\", \"FP\", \"TN\", \"FN\", \"Total_Images\"\n",
    "])\n",
    "display(df)\n"
   ]
  },
  {
   "cell_type": "markdown",
   "metadata": {},
   "source": [
    "## Evaluation Report"
   ]
  },
  {
   "cell_type": "markdown",
   "metadata": {},
   "source": [
    "### Introduction\n",
    "Introduction\n",
    "This report evaluates the performance of a trained AlexNet model. Performance is calculated using various metrics and is judged based on both training and testing datasets. The testing dataset is further broken down into class specific testing sets to further inform the model evaluation. \n",
    "\n",
    "Such performance metrics include accuracy, precision, recall, and F1-score, along with overall and class-specific confusion matrices.\n"
   ]
  },
  {
   "cell_type": "markdown",
   "metadata": {},
   "source": [
    "### Metric Explaination\n",
    "TP, FP, TN, FN = True Positive, False Positive, True Negative, False Negative\n",
    "\n",
    "Metric calculation is broken down as such: \n",
    "- Accuracy\n",
    "    - Ratio of predicted samples to total samples\n",
    "    - Basic measure of overall correctness but can be slightly ambiguous  \n",
    "- Precision\n",
    "    - Ratio of TP to the sum of TP+FP \n",
    "    - Indicates how well the model avoids false positives\n",
    "- Recall\n",
    "    - Ratio of TP to the sum of TP+FN\n",
    "    - Indicates the models ability to capture all relevant instances \n",
    "- F1-Score  \n",
    "    - The mean of precision and recall \n",
    "    - Provides a valance between metrics"
   ]
  },
  {
   "cell_type": "markdown",
   "metadata": {},
   "source": [
    "### Evaluation Results and Analysis \n",
    "1. Training Data\n",
    "    - Accuracy: \n",
    "    - Precision: \n",
    "    - Recall:\n",
    "    - F1-Score:  \n",
    "High scores across all metrics indicate that the model fits the training data well, with minimal errors. Only 7 false positives and 7 false negatives were observed, which is acceptable given the dataset size.\n",
    "2. Testing Data\n",
    "    - Accuracy: \n",
    "    - Precision: \n",
    "    - Recall:\n",
    "    - F1-Score:  \n",
    "The testing data results suggest strong generalization. However, the slight drop compared to training data indicates a few misclassifications, which are expected.\n",
    "\n",
    "\n",
    "#### Class-Specific Evaluation\n",
    "**0. Testing Data - Cataract:**\n",
    "- Accuracy: \n",
    "- Precision:\n",
    "- Recall: \n",
    "- F1-Score:\n",
    "\n",
    "Comments: \n",
    "\n",
    "**1. Testing Data - Diabetic Retinopathy:**\n",
    "- Accuracy: \n",
    "- Precision:\n",
    "- Recall: \n",
    "- F1-Score:\n",
    "\n",
    "Comments: \n",
    "\n",
    "**2. Testing Data - Glaucoma:**\n",
    "- Accuracy: \n",
    "- Precision:\n",
    "- Recall: \n",
    "- F1-Score:\n",
    "\n",
    "Comments: \n",
    "\n",
    "**3. Testing Data - Normal:**\n",
    "- Accuracy: \n",
    "- Precision:\n",
    "- Recall: \n",
    "- F1-Score:\n",
    "\n",
    "Comments: \n",
    "\n",
    "**Confusion Matrix** \n",
    "- The confusion matrices provide a detailed breakdown of how well the model distinguishes between classes. Key observations:\n",
    "- Minimal Misclassifications: For most classes, off-diagonal entries (misclassifications) are low."
   ]
  },
  {
   "cell_type": "markdown",
   "metadata": {},
   "source": [
    "### Conclusion \n",
    "The model exhibits strong performance across all metrics for both training and testing data. However, slight differences in recall for some classes like Glaucoma and Normal suggest room for improvement in identifying all true instances.\n",
    "\n",
    "The results are highly satisfactory, indicating that the model generalizes well and can effectively classify medical conditions. Further fine-tuning or additional data augmentation could help improve recall for these challenging classes."
   ]
  }
 ],
 "metadata": {
  "kernelspec": {
   "display_name": "myenv",
   "language": "python",
   "name": "python3"
  },
  "language_info": {
   "codemirror_mode": {
    "name": "ipython",
    "version": 3
   },
   "file_extension": ".py",
   "mimetype": "text/x-python",
   "name": "python",
   "nbconvert_exporter": "python",
   "pygments_lexer": "ipython3",
   "version": "3.10.7"
  }
 },
 "nbformat": 4,
 "nbformat_minor": 2
}
