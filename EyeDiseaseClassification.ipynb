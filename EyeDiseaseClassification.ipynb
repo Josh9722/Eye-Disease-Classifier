{
 "cells": [
  {
   "cell_type": "markdown",
   "metadata": {},
   "source": [
    "# Eye Disease Classification\n",
    "## Task\n",
    "To use machine learning and computer vision techniques to identify eye diseases in medical images and classify these images into 4 categories: cataract, diabetic retinopathy, glaucoma, and normal."
   ]
  },
  {
   "cell_type": "markdown",
   "metadata": {},
   "source": [
    "## Import Dependencies"
   ]
  },
  {
   "cell_type": "code",
   "execution_count": null,
   "metadata": {},
   "outputs": [],
   "source": [
    "import os\n",
    "from pathlib import Path\n",
    "import pandas as pd\n",
    "\n",
    "import numpy as np\n",
    "import matplotlib.pyplot as plt\n",
    "\n",
    "import torch, torchvision\n",
    "from torchvision import datasets, models, transforms\n",
    "import torch.nn as nn\n",
    "from torch.utils.data import DataLoader\n",
    "import torch.optim as optim"
   ]
  },
  {
   "cell_type": "markdown",
   "metadata": {},
   "source": [
    "## Define Image Size and Transform Function"
   ]
  },
  {
   "cell_type": "code",
   "execution_count": null,
   "metadata": {},
   "outputs": [],
   "source": [
    "image_size = 227 # AlexNET\n",
    "BATCH_SIZE = 128\n",
    "#Implement Transform Functions"
   ]
  },
  {
   "cell_type": "markdown",
   "metadata": {},
   "source": [
    "## Load the Data"
   ]
  },
  {
   "cell_type": "markdown",
   "metadata": {},
   "source": [
    "Mount device and navigate to working directory. Separate subdirs for each category."
   ]
  },
  {
   "cell_type": "code",
   "execution_count": null,
   "metadata": {},
   "outputs": [],
   "source": [
    "# Establishing Data directory and sub directories (subdirs represent image classes)\n",
    "folder_path = 'Data'\n",
    "glaucoma = Path(folder_path+'/glaucoma')\n",
    "cataract = Path(folder_path+'/cataract')\n",
    "normal = Path(folder_path+'/normal')\n",
    "diabetic_retinopathy = Path(folder_path+'/diabetic_retinopathy')"
   ]
  }
 ],
 "metadata": {
  "language_info": {
   "name": "python"
  }
 },
 "nbformat": 4,
 "nbformat_minor": 2
}
